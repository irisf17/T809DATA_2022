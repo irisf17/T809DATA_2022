{
 "cells": [
  {
   "cell_type": "code",
   "execution_count": 2,
   "metadata": {},
   "outputs": [],
   "source": [
    "import numpy as np\n",
    "import matplotlib.pyplot as plt"
   ]
  },
  {
   "cell_type": "code",
   "execution_count": 3,
   "metadata": {},
   "outputs": [],
   "source": [
    "def normal(x: np.ndarray, sigma: float, mu: float) -> np.ndarray:\n",
    "    '''\n",
    "    Returns the probability of x according to the Gaussian\n",
    "    PDF, given a standard deviation and the mean\n",
    "    '''\n",
    "    delta = np.finfo(np.float).eps\n",
    "    return np.exp(-np.power(x-mu, 2)/(2*np.power(sigma+delta, 2)))/\\\n",
    "        np.sqrt(2*np.pi*np.power(sigma+delta, 2))"
   ]
  },
  {
   "cell_type": "code",
   "execution_count": 4,
   "metadata": {},
   "outputs": [],
   "source": [
    "def plot_normal(sigma: float, mu:float, x_start: float, x_end: float):\n",
    "    xs = np.linspace(x_start, x_end, num=500)\n",
    "    plt.plot(xs, normal(xs, sigma, mu))"
   ]
  },
  {
   "cell_type": "code",
   "execution_count": 5,
   "metadata": {},
   "outputs": [],
   "source": [
    "def _plot_three_normals():\n",
    "    plot_normal(0.5, 0, -5, 5)\n",
    "    plot_normal(0.25, 1, -5, 5)\n",
    "    plot_normal(1, 1.5, -5, 5)\n",
    "    plt.show()\n",
    "_plot_three_normals()"
   ]
  },
  {
   "cell_type": "code",
   "execution_count": null,
   "metadata": {},
   "outputs": [],
   "source": []
  }
 ],
 "metadata": {
  "kernelspec": {
   "display_name": "Python 3.10.4 ('DATA')",
   "language": "python",
   "name": "python3"
  },
  "language_info": {
   "codemirror_mode": {
    "name": "ipython",
    "version": 3
   },
   "file_extension": ".py",
   "mimetype": "text/x-python",
   "name": "python",
   "nbconvert_exporter": "python",
   "pygments_lexer": "ipython3",
   "version": "3.10.4"
  },
  "orig_nbformat": 2,
  "vscode": {
   "interpreter": {
    "hash": "f4c088ac7f0fc97a40c4b9af3241a7defdd9e01b9ca7796a463f42d47eff2f9c"
   }
  }
 },
 "nbformat": 4,
 "nbformat_minor": 2
}
